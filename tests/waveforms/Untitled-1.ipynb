{
 "cells": [
  {
   "cell_type": "code",
   "execution_count": 1,
   "metadata": {},
   "outputs": [
    {
     "name": "stderr",
     "output_type": "stream",
     "text": [
      "/home/ethan.marx/miniconda3/envs/ml4gw-RDr5yYl2-py3.9/lib/python3.9/site-packages/tqdm/auto.py:22: TqdmWarning: IProgress not found. Please update jupyter and ipywidgets. See https://ipywidgets.readthedocs.io/en/stable/user_install.html\n",
      "  from .autonotebook import tqdm as notebook_tqdm\n"
     ]
    }
   ],
   "source": [
    "import torch\n",
    "from ml4gw.waveforms import sine_gaussian\n",
    "from lalinference import BurstSineGaussian\n",
    "import numpy as np\n",
    "import matplotlib.pyplot as plt"
   ]
  },
  {
   "cell_type": "code",
   "execution_count": 2,
   "metadata": {},
   "outputs": [],
   "source": [
    "sample_rate = 2048\n",
    "duration = 2"
   ]
  },
  {
   "cell_type": "code",
   "execution_count": 3,
   "metadata": {},
   "outputs": [],
   "source": [
    "qualities = torch.tensor([3, 10, 100])\n",
    "frequencies = torch.tensor([10, 500, 800])\n",
    "hrsss = torch.tensor([1e-22, 1e-21, 1e-20])\n",
    "phases = torch.tensor([0, np.pi / 2, np.pi])\n",
    "eccentricities = torch.tensor([0, 0.5, 1])"
   ]
  },
  {
   "cell_type": "code",
   "execution_count": 4,
   "metadata": {},
   "outputs": [
    {
     "ename": "RuntimeError",
     "evalue": "Boolean value of Tensor with more than one value is ambiguous",
     "output_type": "error",
     "traceback": [
      "\u001b[0;31m---------------------------------------------------------------------------\u001b[0m",
      "\u001b[0;31mRuntimeError\u001b[0m                              Traceback (most recent call last)",
      "Cell \u001b[0;32mIn[4], line 2\u001b[0m\n\u001b[1;32m      1\u001b[0m \u001b[39m# calculate waveforms with torch implementation\u001b[39;00m\n\u001b[0;32m----> 2\u001b[0m waveforms \u001b[39m=\u001b[39m sine_gaussian(\n\u001b[1;32m      3\u001b[0m     qualities,\n\u001b[1;32m      4\u001b[0m     frequencies,\n\u001b[1;32m      5\u001b[0m     hrsss,\n\u001b[1;32m      6\u001b[0m     phases,\n\u001b[1;32m      7\u001b[0m     eccentricities,\n\u001b[1;32m      8\u001b[0m     sample_rate,\n\u001b[1;32m      9\u001b[0m     duration,\n\u001b[1;32m     10\u001b[0m )\n\u001b[1;32m     12\u001b[0m \u001b[39m# calculate waveforms with lalsimulation implementation\u001b[39;00m\n\u001b[1;32m     13\u001b[0m \u001b[39m# and compare to torch version\u001b[39;00m\n\u001b[1;32m     14\u001b[0m \u001b[39mfor\u001b[39;00m i \u001b[39min\u001b[39;00m \u001b[39mrange\u001b[39m(\u001b[39mlen\u001b[39m(qualities)):\n",
      "File \u001b[0;32m~/forks/ml4gw/ml4gw/waveforms/sine_gaussian.py:99\u001b[0m, in \u001b[0;36msine_gaussian\u001b[0;34m(quality, frequency, hrss, phase, eccentricity, sample_rate, duration)\u001b[0m\n\u001b[1;32m     97\u001b[0m \u001b[39m# calculate the tukey window\u001b[39;00m\n\u001b[1;32m     98\u001b[0m tukey_length \u001b[39m=\u001b[39m \u001b[39m21\u001b[39m \u001b[39m*\u001b[39m quality \u001b[39m/\u001b[39m frequency \u001b[39m/\u001b[39m (torch\u001b[39m.\u001b[39mpi \u001b[39m*\u001b[39m sample_rate)\n\u001b[0;32m---> 99\u001b[0m tukey \u001b[39m=\u001b[39m tukey_window(num, alpha\u001b[39m=\u001b[39;49m \u001b[39m0.5\u001b[39;49m \u001b[39m*\u001b[39;49m (tukey_length \u001b[39m/\u001b[39;49m num))\n\u001b[1;32m    101\u001b[0m \u001b[39m# calculate the waveform and apply a tukey window to taper the waveform\u001b[39;00m\n\u001b[1;32m    102\u001b[0m fac \u001b[39m=\u001b[39m torch\u001b[39m.\u001b[39mexp(phi\u001b[39m*\u001b[39m\u001b[39m*\u001b[39m\u001b[39m2\u001b[39m \u001b[39m/\u001b[39m (\u001b[39m-\u001b[39m\u001b[39m2.0\u001b[39m \u001b[39m*\u001b[39m quality\u001b[39m*\u001b[39m\u001b[39m*\u001b[39m\u001b[39m2\u001b[39m) \u001b[39m+\u001b[39m complex_phase)\n",
      "File \u001b[0;32m~/forks/ml4gw/ml4gw/waveforms/sine_gaussian.py:16\u001b[0m, in \u001b[0;36mtukey_window\u001b[0;34m(num, alpha)\u001b[0m\n\u001b[1;32m     15\u001b[0m \u001b[39mdef\u001b[39;00m \u001b[39mtukey_window\u001b[39m(num: \u001b[39mint\u001b[39m, alpha: \u001b[39mfloat\u001b[39m \u001b[39m=\u001b[39m \u001b[39m0.5\u001b[39m):\n\u001b[0;32m---> 16\u001b[0m     \u001b[39mreturn\u001b[39;00m torch\u001b[39m.\u001b[39mtensor(tukey(num, alpha\u001b[39m=\u001b[39;49malpha))\n",
      "File \u001b[0;32m~/miniconda3/envs/ml4gw-RDr5yYl2-py3.9/lib/python3.9/site-packages/scipy/signal/windows/_windows.py:869\u001b[0m, in \u001b[0;36mtukey\u001b[0;34m(M, alpha, sym)\u001b[0m\n\u001b[1;32m    866\u001b[0m \u001b[39mif\u001b[39;00m _len_guards(M):\n\u001b[1;32m    867\u001b[0m     \u001b[39mreturn\u001b[39;00m np\u001b[39m.\u001b[39mones(M)\n\u001b[0;32m--> 869\u001b[0m \u001b[39mif\u001b[39;00m alpha \u001b[39m<\u001b[39m\u001b[39m=\u001b[39m \u001b[39m0\u001b[39m:\n\u001b[1;32m    870\u001b[0m     \u001b[39mreturn\u001b[39;00m np\u001b[39m.\u001b[39mones(M, \u001b[39m'\u001b[39m\u001b[39md\u001b[39m\u001b[39m'\u001b[39m)\n\u001b[1;32m    871\u001b[0m \u001b[39melif\u001b[39;00m alpha \u001b[39m>\u001b[39m\u001b[39m=\u001b[39m \u001b[39m1.0\u001b[39m:\n",
      "\u001b[0;31mRuntimeError\u001b[0m: Boolean value of Tensor with more than one value is ambiguous"
     ]
    }
   ],
   "source": [
    "# calculate waveforms with torch implementation\n",
    "waveforms = sine_gaussian(\n",
    "    qualities,\n",
    "    frequencies,\n",
    "    hrsss,\n",
    "    phases,\n",
    "    eccentricities,\n",
    "    sample_rate,\n",
    "    duration,\n",
    ")\n",
    "\n",
    "# calculate waveforms with lalsimulation implementation\n",
    "# and compare to torch version\n",
    "for i in range(len(qualities)):\n",
    "    quality = qualities[i].item()\n",
    "    frequency = frequencies[i].item()\n",
    "    hrss = hrsss[i].item()\n",
    "    phase = phases[i].item()\n",
    "    eccentricity = eccentricities[i].item()\n",
    "    waveform = waveforms[i]\n",
    "\n",
    "    # calculate waveform with lalsimulation\n",
    "    hplus, hcross = BurstSineGaussian(\n",
    "        Q=quality,\n",
    "        centre_frequency=frequency,\n",
    "        hrss=hrss,\n",
    "        eccentricity=eccentricity,\n",
    "        phase=phase,\n",
    "        delta_t=1 / sample_rate,\n",
    "    )\n",
    "    hplus = hplus.data.data\n",
    "    hcross = hcross.data.data\n",
    "\n",
    "    # compare hplus and hcross polarizations\n",
    "    torch_polarizations = waveform.numpy()\n",
    "    n_samples = len(hplus)\n",
    "    start, stop = torch_polarizations.shape[-1] // 2 - n_samples // 2, torch_polarizations.shape[-1] // 2 + n_samples // 2 + 1\n",
    "    torch_polarizations = torch_polarizations[..., start:stop]\n",
    "\n",
    "    assert np.allclose(torch_polarizations[0], hplus, atol=1e-25)\n",
    "    assert np.allclose(torch_polarizations[1], hcross, atol=1e-25)\n",
    "\n",
    "    # plot waveforms\n",
    "    plt.figure()\n",
    "    plt.plot(torch_polarizations[0], label='torch')\n",
    "    plt.plot(hplus, label='lalsimulation')\n",
    "\n",
    "    plt.legend()\n",
    "    plt.show()\n",
    "    \n",
    "    "
   ]
  },
  {
   "cell_type": "code",
   "execution_count": 5,
   "metadata": {},
   "outputs": [
    {
     "data": {
      "text/plain": [
       "[<matplotlib.lines.Line2D at 0x7f3471453670>]"
      ]
     },
     "execution_count": 5,
     "metadata": {},
     "output_type": "execute_result"
    },
    {
     "data": {
      "image/png": "[encoded data removed]",
      "text/plain": [
       "<Figure size 640x480 with 1 Axes>"
      ]
     },
     "metadata": {},
     "output_type": "display_data"
    }
   ],
   "source": [
    "plt.plot(hplus)\n",
    "plt.plot(waveforms[0][0].numpy())"
   ]
  },
  {
   "cell_type": "code",
   "execution_count": 21,
   "metadata": {},
   "outputs": [],
   "source": [
    "def tukey_window(N: int, alpha = torch.Tensor):\n",
    "    n = torch.arange(0, N)\n",
    "    n = n.repeat(len(alpha), 1)\n",
    "    width = torch.floor(alpha*(N-1)/2.0).int()\n",
    "    print(width.shape, n.shape)\n",
    "    \n",
    "    n1 = n[:, 0:width+1]\n",
    "    n2 = n[:, width+1:N-width-1]\n",
    "    n3 = n[:, N-width-1:]\n",
    "\n",
    "    w1 = 0.5 * (1 + torch.cos(torch.pi * (-1 + 2.0*n1/alpha/(N-1))))\n",
    "    w2 = torch.ones(n2.shape)\n",
    "    w3 = 0.5 * (1 + torch.cos(torch.pi * (-2.0/alpha + 1 + 2.0*n3/alpha/(N-1))))\n",
    "\n",
    "    w = torch.cat((w1, w2, w3))\n",
    "\n",
    "    return w"
   ]
  },
  {
   "cell_type": "code",
   "execution_count": 22,
   "metadata": {},
   "outputs": [
    {
     "name": "stdout",
     "output_type": "stream",
     "text": [
      "tensor([[ 0,  1,  2,  3,  4,  5,  6,  7,  8,  9, 10, 11, 12, 13, 14, 15, 16, 17,\n",
      "         18, 19, 20, 21, 22, 23, 24, 25, 26, 27, 28, 29, 30, 31, 32, 33, 34, 35,\n",
      "         36, 37, 38, 39, 40, 41, 42, 43, 44, 45, 46, 47, 48, 49, 50, 51, 52, 53,\n",
      "         54, 55, 56, 57, 58, 59, 60, 61, 62, 63, 64, 65, 66, 67, 68, 69, 70, 71,\n",
      "         72, 73, 74, 75, 76, 77, 78, 79, 80, 81, 82, 83, 84, 85, 86, 87, 88, 89,\n",
      "         90, 91, 92, 93, 94, 95, 96, 97, 98, 99],\n",
      "        [ 0,  1,  2,  3,  4,  5,  6,  7,  8,  9, 10, 11, 12, 13, 14, 15, 16, 17,\n",
      "         18, 19, 20, 21, 22, 23, 24, 25, 26, 27, 28, 29, 30, 31, 32, 33, 34, 35,\n",
      "         36, 37, 38, 39, 40, 41, 42, 43, 44, 45, 46, 47, 48, 49, 50, 51, 52, 53,\n",
      "         54, 55, 56, 57, 58, 59, 60, 61, 62, 63, 64, 65, 66, 67, 68, 69, 70, 71,\n",
      "         72, 73, 74, 75, 76, 77, 78, 79, 80, 81, 82, 83, 84, 85, 86, 87, 88, 89,\n",
      "         90, 91, 92, 93, 94, 95, 96, 97, 98, 99]]) torch.Size([2, 100])\n",
      "torch.Size([2]) torch.Size([2, 100])\n"
     ]
    },
    {
     "ename": "TypeError",
     "evalue": "only integer tensors of a single element can be converted to an index",
     "output_type": "error",
     "traceback": [
      "\u001b[0;31m---------------------------------------------------------------------------\u001b[0m",
      "\u001b[0;31mTypeError\u001b[0m                                 Traceback (most recent call last)",
      "Cell \u001b[0;32mIn[22], line 1\u001b[0m\n\u001b[0;32m----> 1\u001b[0m tukey_window(\u001b[39m100\u001b[39;49m, alpha\u001b[39m=\u001b[39;49mtorch\u001b[39m.\u001b[39;49mtensor([\u001b[39m0.1\u001b[39;49m, \u001b[39m0.2\u001b[39;49m]))\n",
      "Cell \u001b[0;32mIn[21], line 7\u001b[0m, in \u001b[0;36mtukey_window\u001b[0;34m(N, alpha)\u001b[0m\n\u001b[1;32m      5\u001b[0m width \u001b[39m=\u001b[39m torch\u001b[39m.\u001b[39mfloor(alpha\u001b[39m*\u001b[39m(N\u001b[39m-\u001b[39m\u001b[39m1\u001b[39m)\u001b[39m/\u001b[39m\u001b[39m2.0\u001b[39m)\u001b[39m.\u001b[39mint()\n\u001b[1;32m      6\u001b[0m \u001b[39mprint\u001b[39m(width\u001b[39m.\u001b[39mshape, n\u001b[39m.\u001b[39mshape)\n\u001b[0;32m----> 7\u001b[0m n1 \u001b[39m=\u001b[39m n[:, \u001b[39m0\u001b[39;49m:width\u001b[39m+\u001b[39;49m\u001b[39m1\u001b[39;49m]\n\u001b[1;32m      8\u001b[0m n2 \u001b[39m=\u001b[39m n[:, width\u001b[39m+\u001b[39m\u001b[39m1\u001b[39m:N\u001b[39m-\u001b[39mwidth\u001b[39m-\u001b[39m\u001b[39m1\u001b[39m]\n\u001b[1;32m      9\u001b[0m n3 \u001b[39m=\u001b[39m n[:, N\u001b[39m-\u001b[39mwidth\u001b[39m-\u001b[39m\u001b[39m1\u001b[39m:]\n",
      "\u001b[0;31mTypeError\u001b[0m: only integer tensors of a single element can be converted to an index"
     ]
    }
   ],
   "source": [
    "tukey_window(100, alpha=torch.tensor([0.1, 0.2]))"
   ]
  },
  {
   "cell_type": "code",
   "execution_count": 26,
   "metadata": {},
   "outputs": [],
   "source": [
    "N = 100 \n",
    "alpha = torch.Tensor([0.1, 0.2])\n",
    "n = torch.arange(0, N)\n",
    "n = n.repeat(len(alpha), 1)"
   ]
  },
  {
   "cell_type": "code",
   "execution_count": 30,
   "metadata": {},
   "outputs": [
    {
     "data": {
      "text/plain": [
       "tensor([[0, 1, 2, 3, 4, 5, 6, 7, 8, 9],\n",
       "        [0, 1, 2, 3, 4, 5, 6, 7, 8, 9]])"
      ]
     },
     "execution_count": 30,
     "metadata": {},
     "output_type": "execute_result"
    }
   ],
   "source": [
    "n[:, torch.arange(10)]"
   ]
  },
  {
   "cell_type": "code",
   "execution_count": null,
   "metadata": {},
   "outputs": [],
   "source": []
  }
 ],
 "metadata": {
  "kernelspec": {
   "display_name": "Python 3.9.12 ('ml4gw-RDr5yYl2-py3.9')",
   "language": "python",
   "name": "python3"
  },
  "language_info": {
   "codemirror_mode": {
    "name": "ipython",
    "version": 3
   },
   "file_extension": ".py",
   "mimetype": "text/x-python",
   "name": "python",
   "nbconvert_exporter": "python",
   "pygments_lexer": "ipython3",
   "version": "3.9.12"
  },
  "orig_nbformat": 4,
  "vscode": {
   "interpreter": {
    "hash": "2206a1cf0dafa83939f1046296fe0ddcd4f0af3d4e57a98d583f32fd5cbc58b4"
   }
  }
 },
 "nbformat": 4,
 "nbformat_minor": 2
}
